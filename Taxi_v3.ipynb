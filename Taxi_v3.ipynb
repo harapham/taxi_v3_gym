{
  "nbformat": 4,
  "nbformat_minor": 0,
  "metadata": {
    "colab": {
      "provenance": []
    },
    "kernelspec": {
      "name": "python3",
      "display_name": "Python 3"
    },
    "language_info": {
      "name": "python"
    }
  },
  "cells": [
    {
      "cell_type": "markdown",
      "source": [
        "# **Taxi-v3**\n",
        "Giải bài toán xe taxi tự hành theo mô tả như sau:\n",
        "Môi trường là Taxi-v3 trong thư viện gym (env = gym.make(\"Taxi-v3\").env). Vị trí taxi và vị trí hành khách sẽ được khởi tạo ngẫu nhiên. Yêu cầu là tối ưu reward nhận được (cách tính reward như trong mô tả sau: https://www.gymlibrary.dev/environments/toy_text/taxi/).\n",
        "\n",
        "\n",
        "Bài nộp là một function tên là strategy nhận đầu vào là các biến theo thứ tự sau:\n",
        "1. Vị trí của xe taxi (1 trong 25 vị trí trong bản đồ 5x5 của taxi-v3)\n",
        "2. Vị trí của hành khách (1 trong 4 điểm R, G, B, Y trong bản đồ)\n",
        "3. Vị trí trả khách (Destination: 1 trong 4 điểm R, G, B, Y trong bản đồ)\n",
        "Đầu ra của function này là list các action có thể, bao gồm:\n",
        "0 = south\n",
        "1 = north\n",
        "2 = east\n",
        "3 = west\n",
        "4 = pickup\n",
        "5 = dropoff\n",
        "Các action này cách nhau bởi dấu phẩy.\n",
        "\n",
        "Ví dụ: strategy(3,1,R,Y) trả về 1,1,1,2,0,0,0. Trong đó, vị trí taxi là ở ô (3,1), đón khách ở ô R và trả khách ở ô Y.\n"
      ],
      "metadata": {
        "id": "SJ5vXRd-AsId"
      }
    },
    {
      "cell_type": "markdown",
      "source": [
        "## **set up environment**"
      ],
      "metadata": {
        "id": "6A4oyMPnA0MF"
      }
    },
    {
      "cell_type": "code",
      "source": [
        "! pip install gym\n",
        "! pip install cmake 'gym[atari]' scipy"
      ],
      "metadata": {
        "id": "byDjOsJGYxr8"
      },
      "execution_count": null,
      "outputs": []
    },
    {
      "cell_type": "code",
      "source": [
        "import gym\n",
        "import numpy as np\n",
        "import random\n",
        "from tqdm import tqdm\n",
        "from tqdm.notebook import trange\n",
        "from IPython.display import clear_output\n",
        "from time import sleep"
      ],
      "metadata": {
        "id": "QYV_UVR2ECVL"
      },
      "execution_count": null,
      "outputs": []
    },
    {
      "cell_type": "code",
      "source": [
        "global env\n",
        "env = gym.make(\"Taxi-v3\").env"
      ],
      "metadata": {
        "id": "G6vDClehTg7T"
      },
      "execution_count": null,
      "outputs": []
    },
    {
      "cell_type": "code",
      "source": [
        "# có 25 vị trí cho taxi, 5 vị trí cho khách(R,G,Y,B và trên taxi), 4 điểm dừng (R,G,Y,B)\n",
        "#--> có 500 state\n",
        "print(\"State Space {}\".format(env.observation_space.n))"
      ],
      "metadata": {
        "colab": {
          "base_uri": "https://localhost:8080/"
        },
        "id": "vsOTij1LTnCB",
        "outputId": "b775e1e2-90c6-4f2c-ad6f-38d36ed78da7"
      },
      "execution_count": null,
      "outputs": [
        {
          "output_type": "stream",
          "name": "stdout",
          "text": [
            "State Space 500\n"
          ]
        }
      ]
    },
    {
      "cell_type": "code",
      "source": [
        "# Có 6 actions:\n",
        "# 0: xuống\n",
        "# 1: lên\n",
        "# 2: phải\n",
        "# 3: trái\n",
        "# 4: đón khách\n",
        "# 5: trả khách\n",
        "print(\"Action Space {}\".format(env.action_space.n))"
      ],
      "metadata": {
        "colab": {
          "base_uri": "https://localhost:8080/"
        },
        "id": "FrdHumXlUcm6",
        "outputId": "2c89ca88-fafd-4d96-9388-aa8fcf7b52a5"
      },
      "execution_count": null,
      "outputs": [
        {
          "output_type": "stream",
          "name": "stdout",
          "text": [
            "Action Space 6\n"
          ]
        }
      ]
    },
    {
      "cell_type": "markdown",
      "source": [
        "**Rewards**\n",
        "* -1 cho mỗi bước đi\n",
        "* +20 khi đến đúng điểm trả khách\n",
        "* -10 trả khách hoặc đón khách sai điểm"
      ],
      "metadata": {
        "id": "RFq7gnrYU_uC"
      }
    },
    {
      "cell_type": "code",
      "source": [
        "#random state\n",
        "e= env.reset()\n",
        "print(\"State: {}\".format(e))\n",
        "print(env.render(mode='ansi'))\n"
      ],
      "metadata": {
        "colab": {
          "base_uri": "https://localhost:8080/"
        },
        "id": "Dotb5rC8N8wk",
        "outputId": "766ad16d-05e2-4c02-941b-e6685132d681"
      },
      "execution_count": null,
      "outputs": [
        {
          "output_type": "stream",
          "name": "stdout",
          "text": [
            "State: 43\n",
            "+---------+\n",
            "|\u001b[34;1mR\u001b[0m: |\u001b[43m \u001b[0m: :G|\n",
            "| : | : : |\n",
            "| : : : : |\n",
            "| | : | : |\n",
            "|Y| : |\u001b[35mB\u001b[0m: |\n",
            "+---------+\n",
            "\n",
            "\n"
          ]
        }
      ]
    },
    {
      "cell_type": "code",
      "source": [
        "# custom  state\n",
        "state = env.encode(3, 0, 2, 1)\n",
        "print(\"State:\", state)\n",
        "env = env.unwrapped\n",
        "env.s = state\n",
        "print(env.render(mode='ansi'))"
      ],
      "metadata": {
        "colab": {
          "base_uri": "https://localhost:8080/"
        },
        "id": "vXoBsLQzMWAG",
        "outputId": "ecf01f48-ed2e-4ee3-eb38-179f2da21319"
      },
      "execution_count": null,
      "outputs": [
        {
          "output_type": "stream",
          "name": "stdout",
          "text": [
            "State: 309\n",
            "+---------+\n",
            "|R: | : :\u001b[35mG\u001b[0m|\n",
            "| : | : : |\n",
            "| : : : : |\n",
            "|\u001b[43m \u001b[0m| : | : |\n",
            "|\u001b[34;1mY\u001b[0m| : |B: |\n",
            "+---------+\n",
            "\n",
            "\n"
          ]
        }
      ]
    },
    {
      "cell_type": "markdown",
      "source": [
        "## **create agent**"
      ],
      "metadata": {
        "id": "kJMNgRMzYoXl"
      }
    },
    {
      "cell_type": "code",
      "source": [
        "class Agent:\n",
        "    def __init__(self, env, alpha, gamma):\n",
        "        self.env = env\n",
        "        self.q_table = np.zeros([env.observation_space.n, env.action_space.n])\n",
        "        self.alpha = alpha\n",
        "        self.gamma = gamma\n",
        "\n",
        "    def choose_action(self, state):\n",
        "        return np.argmax(self.q_table[state])\n",
        "\n",
        "    def learn(self, state, action, reward, next_state):\n",
        "        old_value = self.q_table[state, action]\n",
        "        next_max = np.max(self.q_table[next_state])\n",
        "        new_value = old_value + self.alpha * (reward + self.gamma * next_max - old_value)\n",
        "        self.q_table[state, action] = new_value\n"
      ],
      "metadata": {
        "id": "QUOH76dvYtV5"
      },
      "execution_count": null,
      "outputs": []
    },
    {
      "cell_type": "markdown",
      "source": [
        "## **train agent**"
      ],
      "metadata": {
        "id": "fzwXlzcrodox"
      }
    },
    {
      "cell_type": "code",
      "source": [
        "alpha = 1\n",
        "gamma = 0.9\n",
        "global agent\n",
        "agent = Agent(env, alpha, gamma)\n",
        "best_reward = float('-inf')"
      ],
      "metadata": {
        "id": "IIRsLtwnbhQg"
      },
      "execution_count": null,
      "outputs": []
    },
    {
      "cell_type": "code",
      "source": [
        "epsilon = 0.1\n",
        "\n",
        "n_episodes = 100001\n",
        "timesteps = 0\n",
        "penalty = 0\n",
        "avg_rewards = 0\n",
        "\n",
        "for i in tqdm(range(0, n_episodes)):\n",
        "    state = env.reset()\n",
        "    epochs, penalties, reward, = 0, 0, 0\n",
        "    done = False\n",
        "    total_reward = 0\n",
        "    while not done:\n",
        "        if random.uniform(0, 1) < epsilon:\n",
        "            action = env.action_space.sample()\n",
        "        else:\n",
        "            action = agent.choose_action(state)\n",
        "        result = env.step(action)\n",
        "        next_state, reward, done, info = result[:4]\n",
        "        agent.learn(state, action, reward, next_state)\n",
        "\n",
        "        if reward == -10:\n",
        "            penalties += 1\n",
        "\n",
        "        state = next_state\n",
        "        total_reward = total_reward + reward\n",
        "        epochs += 1\n",
        "    if total_reward >= best_reward:\n",
        "        best_reward = total_reward\n",
        "    avg_rewards +=  total_reward\n",
        "    timesteps += epochs\n",
        "    penalty += penalties"
      ],
      "metadata": {
        "colab": {
          "base_uri": "https://localhost:8080/"
        },
        "id": "LHoU0St5bjDH",
        "outputId": "b449a959-42ee-40f1-ea50-d3dcdab8f93c"
      },
      "execution_count": null,
      "outputs": [
        {
          "output_type": "stream",
          "name": "stderr",
          "text": [
            "100%|██████████| 100001/100001 [01:10<00:00, 1417.00it/s]\n"
          ]
        }
      ]
    },
    {
      "cell_type": "code",
      "source": [
        "print(f\"Results after {n_episodes} episodes:\")\n",
        "print(f\"Average timesteps per episode: {timesteps / n_episodes}\")\n",
        "print(f\"Average penalties per episode: {penalty / n_episodes}\")\n",
        "print(f\"Average rewards per episode: {avg_rewards / n_episodes}\")\n",
        "print(f\"Best reward : {best_reward}\")"
      ],
      "metadata": {
        "colab": {
          "base_uri": "https://localhost:8080/"
        },
        "id": "4joB6JeFstFB",
        "outputId": "ab9c95c3-0308-4503-b1ec-63ec840df646"
      },
      "execution_count": null,
      "outputs": [
        {
          "output_type": "stream",
          "name": "stdout",
          "text": [
            "Results after 100001 episodes:\n",
            "Average timesteps per episode: 14.840251597484025\n",
            "Average penalties per episode: 0.4448555514444856\n",
            "Average rewards per episode: 2.156048439515605\n",
            "Best reward : 15\n"
          ]
        }
      ]
    },
    {
      "cell_type": "code",
      "source": [
        "print(f\"Results after {n_episodes} episodes:\")\n",
        "print(f\"Average timesteps per episode: {timesteps / n_episodes}\")\n",
        "print(f\"Average penalties per episode: {penalty / n_episodes}\")\n",
        "print(f\"Average rewards per episode: {avg_rewards / n_episodes}\")\n",
        "print(f\"Best reward : {best_reward}\")"
      ],
      "metadata": {
        "colab": {
          "base_uri": "https://localhost:8080/"
        },
        "id": "1ifHTUIbru_y",
        "outputId": "eb52472a-2c9d-4904-f24a-f5b190ac76c0"
      },
      "execution_count": null,
      "outputs": [
        {
          "output_type": "stream",
          "name": "stdout",
          "text": [
            "Results after 10001 episodes:\n",
            "Average timesteps per episode: 14.69043095690431\n",
            "Average penalties per episode: 0.4323567643235676\n",
            "Average rewards per episode: 2.418358164183582\n",
            "Best reward : 15\n"
          ]
        }
      ]
    },
    {
      "cell_type": "markdown",
      "source": [
        "## **test**"
      ],
      "metadata": {
        "id": "I-9d5yTDoi5i"
      }
    },
    {
      "cell_type": "code",
      "source": [
        "state = env.encode(3, 1, 0, 2)\n",
        "env = env.unwrapped\n",
        "env.s = state"
      ],
      "metadata": {
        "id": "GE5I8CU5ipu6"
      },
      "execution_count": null,
      "outputs": []
    },
    {
      "cell_type": "code",
      "source": [
        "print(env.render(mode ='ansi'))"
      ],
      "metadata": {
        "colab": {
          "base_uri": "https://localhost:8080/"
        },
        "id": "wJrNwS8TkW6J",
        "outputId": "59817035-92bd-47c1-cc8a-a46865255594"
      },
      "execution_count": null,
      "outputs": [
        {
          "output_type": "stream",
          "name": "stdout",
          "text": [
            "+---------+\n",
            "|\u001b[34;1mR\u001b[0m: | : :G|\n",
            "| : | : : |\n",
            "| : : : : |\n",
            "| |\u001b[43m \u001b[0m: | : |\n",
            "|\u001b[35mY\u001b[0m| : |B: |\n",
            "+---------+\n",
            "  (Dropoff)\n",
            "\n"
          ]
        }
      ]
    },
    {
      "cell_type": "code",
      "source": [
        "epochs = 0\n",
        "penalties = 0\n",
        "total_reward = 0\n",
        "\n",
        "frames = []\n",
        "\n",
        "done = False\n",
        "\n",
        "while not done:\n",
        "\n",
        "    action = agent.choose_action(state)\n",
        "\n",
        "    result = env.step(action)\n",
        "    next_state, reward, done, info = result[:4]\n",
        "    agent.learn(state, action, reward, next_state)\n",
        "\n",
        "    if reward == -10:\n",
        "        penalties += 1\n",
        "\n",
        "    frames.append({\n",
        "        'frame': env.render(mode='ansi'),\n",
        "        'state': state,\n",
        "        'action': action,\n",
        "        'reward': reward\n",
        "        }\n",
        "    )\n",
        "\n",
        "    state = next_state\n",
        "    total_reward += reward\n",
        "    epochs += 1\n",
        "\n",
        "print(\"Timesteps taken: {}\".format(epochs))\n",
        "print(\"Penalties incurred: {}\".format(penalties))\n",
        "print(f\"Total Reward: {total_reward}\")"
      ],
      "metadata": {
        "colab": {
          "base_uri": "https://localhost:8080/"
        },
        "id": "MiW4fUDwEIH0",
        "outputId": "99d8d5d9-f26c-45fa-c197-78fdaa9d4bc7"
      },
      "execution_count": null,
      "outputs": [
        {
          "output_type": "stream",
          "name": "stdout",
          "text": [
            "Timesteps taken: 10\n",
            "Penalties incurred: 0\n",
            "Total Reward: 11\n"
          ]
        }
      ]
    },
    {
      "cell_type": "code",
      "source": [
        "\n",
        "for i, frame in enumerate(frames):\n",
        "  clear_output(wait = True)\n",
        "  print(frame['frame'])\n",
        "  print(f\"Timestep: {i + 1}\")\n",
        "  print(f\"State: {frame['state']}\")\n",
        "  print(f\"Action: {frame['action']}\")\n",
        "  print(f\"Reward: {frame['reward']}\")\n",
        "  sleep(1)"
      ],
      "metadata": {
        "colab": {
          "base_uri": "https://localhost:8080/"
        },
        "id": "BzLXW0T0EJ8V",
        "outputId": "712fce96-6fa8-455b-a3c9-875317aa29e1"
      },
      "execution_count": null,
      "outputs": [
        {
          "output_type": "stream",
          "name": "stdout",
          "text": [
            "+---------+\n",
            "|R: | : :G|\n",
            "| : | : : |\n",
            "| : : : : |\n",
            "| | : | : |\n",
            "|\u001b[35m\u001b[34;1m\u001b[43mY\u001b[0m\u001b[0m\u001b[0m| : |B: |\n",
            "+---------+\n",
            "  (Dropoff)\n",
            "\n",
            "Timestep: 10\n",
            "State: 418\n",
            "Action: 5\n",
            "Reward: 20\n"
          ]
        }
      ]
    },
    {
      "cell_type": "markdown",
      "source": [
        "## **strategy (taxi_x,taxi_y, passenger, destination)**"
      ],
      "metadata": {
        "id": "MciqLJFyZ9OY"
      }
    },
    {
      "cell_type": "code",
      "source": [
        "def strategy(taxi_x, taxi_y, passenger, destination):\n",
        "  global env, agent\n",
        "  if passenger == 'R': p=0\n",
        "  elif passenger == 'G' : p=1\n",
        "  elif passenger == 'Y' : p=2\n",
        "  else : p=3\n",
        "\n",
        "  if destination == 'R': d=0\n",
        "  elif destination == 'G' : d=1\n",
        "  elif destination == 'Y' : d=2\n",
        "  else : d=3\n",
        "  state = env.encode(taxi_x, taxi_y, p, d)\n",
        "  env = env.unwrapped\n",
        "  env.s = state\n",
        "\n",
        "  epochs = 0\n",
        "  penalties = 0\n",
        "  total_reward = 0\n",
        "  frames = []\n",
        "  done = False\n",
        "  while not done:\n",
        "      action = agent.choose_action(state)\n",
        "      result = env.step(action)\n",
        "      next_state, reward, done, info = result[:4]\n",
        "      agent.learn(state, action, reward, next_state)\n",
        "      if reward == -10:\n",
        "          penalties += 1\n",
        "      frames.append({\n",
        "          'frame': env.render(mode='ansi'),\n",
        "          'state': state,\n",
        "          'action': action,\n",
        "          'reward': reward\n",
        "          }\n",
        "      )\n",
        "      state = next_state\n",
        "      total_reward += reward\n",
        "      epochs += 1\n",
        "\n",
        "  result = ','.join([str(ac['action']) for ac in frames])\n",
        "  return result;"
      ],
      "metadata": {
        "id": "APhffnD4Z8ih"
      },
      "execution_count": null,
      "outputs": []
    },
    {
      "cell_type": "code",
      "source": [
        "print(strategy(3,1,'Y','B'))"
      ],
      "metadata": {
        "colab": {
          "base_uri": "https://localhost:8080/"
        },
        "id": "w16tinObcUWK",
        "outputId": "5af00d2c-48bb-40f1-d539-75c3664ed9e3"
      },
      "execution_count": null,
      "outputs": [
        {
          "output_type": "stream",
          "name": "stdout",
          "text": [
            "1,3,0,0,4,1,1,2,2,2,0,0,5\n"
          ]
        }
      ]
    }
  ]
}